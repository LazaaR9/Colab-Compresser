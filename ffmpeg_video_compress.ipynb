{
  "nbformat": 4,
  "nbformat_minor": 0,
  "metadata": {
    "colab": {
      "name": "ffmpeg-video-compress.ipynb",
      "private_outputs": true,
      "provenance": [],
      "collapsed_sections": [],
      "include_colab_link": true
    },
    "kernelspec": {
      "name": "python3",
      "display_name": "Python 3"
    }
  },
  "cells": [
    {
      "cell_type": "markdown",
      "metadata": {
        "id": "view-in-github",
        "colab_type": "text"
      },
      "source": [
        "<a href=\"https://colab.research.google.com/github/jakiyaa/ffmpeg-video-compress/blob/main/ffmpeg_video_compress.ipynb\" target=\"_parent\"><img src=\"https://colab.research.google.com/assets/colab-badge.svg\" alt=\"Open In Colab\"/></a>"
      ]
    },
    {
      "cell_type": "code",
      "metadata": {
        "id": "LLMokjQDt8xh"
      },
      "source": [
        "from google.colab import drive\n",
        "drive.mount('/content/drive')"
      ],
      "execution_count": null,
      "outputs": []
    },
    {
      "cell_type": "code",
      "metadata": {
        "id": "1kDdB6Ajo6wf"
      },
      "source": [
        "!pip install ffmpeg-python"
      ],
      "execution_count": null,
      "outputs": []
    },
    {
      "cell_type": "markdown",
      "metadata": {
        "id": "PgNc8Wl61Ky3"
      },
      "source": [
        "# **Compress**"
      ]
    },
    {
      "cell_type": "code",
      "metadata": {
        "id": "QJOwsECmsbH2"
      },
      "source": [
        "!ffmpeg -i input.mp4 -vcodec h264 -acodec aac output.mp4"
      ],
      "execution_count": null,
      "outputs": []
    },
    {
      "cell_type": "markdown",
      "metadata": {
        "id": "qFeKcOnZseHu"
      },
      "source": [
        "# **other**"
      ]
    },
    {
      "cell_type": "markdown",
      "metadata": {
        "id": "-an1YR5MuAbY"
      },
      "source": [
        "quality audio"
      ]
    },
    {
      "cell_type": "code",
      "metadata": {
        "id": "-pNXftnUsh0k"
      },
      "source": [
        "!ffmpeg -i input.mp4 -vcodec h264 -acodec copy out.mp4"
      ],
      "execution_count": null,
      "outputs": []
    },
    {
      "cell_type": "markdown",
      "metadata": {
        "id": "CFidld6PuH5u"
      },
      "source": [
        "low quality"
      ]
    },
    {
      "cell_type": "code",
      "metadata": {
        "id": "HesrsP4QtfQf"
      },
      "source": [
        "!ffmpeg -i input.mp4 -vcodec h264 -b:v 1000k output.mp4"
      ],
      "execution_count": null,
      "outputs": []
    },
    {
      "cell_type": "markdown",
      "metadata": {
        "id": "omCmOIqcuSKz"
      },
      "source": [
        "quality audio"
      ]
    },
    {
      "cell_type": "code",
      "metadata": {
        "id": "ktfnpuK3skRE"
      },
      "source": [
        "!ffmpeg -i input.mp4 -vcodec libx265 -acodec copy output.mp4"
      ],
      "execution_count": null,
      "outputs": []
    },
    {
      "cell_type": "code",
      "metadata": {
        "id": "37VVIXQApN0E"
      },
      "source": [
        "!ffmpeg -i test.mp4 -vcodec h264 -acodec mp2 output.mp4"
      ],
      "execution_count": null,
      "outputs": []
    }
  ]
}