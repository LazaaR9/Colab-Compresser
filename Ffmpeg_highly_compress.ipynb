{
  "nbformat": 4,
  "nbformat_minor": 0,
  "metadata": {
    "colab": {
      "name": "Ffmpeg highly compress.ipynb",
      "private_outputs": true,
      "provenance": [],
      "collapsed_sections": [],
      "include_colab_link": true
    },
    "kernelspec": {
      "name": "python3",
      "display_name": "Python 3"
    }
  },
  "cells": [
    {
      "cell_type": "markdown",
      "metadata": {
        "id": "view-in-github",
        "colab_type": "text"
      },
      "source": [
        "<a href=\"https://colab.research.google.com/github/jakiyaa/ffmpeg-video-compress/blob/main/Ffmpeg_highly_compress.ipynb\" target=\"_parent\"><img src=\"https://colab.research.google.com/assets/colab-badge.svg\" alt=\"Open In Colab\"/></a>"
      ]
    },
    {
      "cell_type": "code",
      "metadata": {
        "id": "adJlK6voxgXh"
      },
      "source": [
        "!pip install ffmpeg-python"
      ],
      "execution_count": null,
      "outputs": []
    },
    {
      "cell_type": "code",
      "metadata": {
        "id": "vCSEBxEpKgvs"
      },
      "source": [
        "from google.colab import drive\n",
        "drive.mount('/content/drive')"
      ],
      "execution_count": null,
      "outputs": []
    },
    {
      "cell_type": "code",
      "metadata": {
        "id": "z8gJrluhx3x3"
      },
      "source": [
        "cd /content/drive/Shareddrives/compress-squad"
      ],
      "execution_count": null,
      "outputs": []
    },
    {
      "cell_type": "code",
      "metadata": {
        "id": "IL__SNMLxxr_"
      },
      "source": [
        "import os, ffmpeg\n",
        "def compress_video(video_full_path, output_file_name, target_size):\n",
        "    # Reference: https://en.wikipedia.org/wiki/Bit_rate#Encoding_bit_rate\n",
        "    min_audio_bitrate = 32000\n",
        "    max_audio_bitrate = 256000\n",
        "\n",
        "    probe = ffmpeg.probe(video_full_path)\n",
        "    # Video duration, in s.\n",
        "    duration = float(probe['format']['duration'])\n",
        "    # Audio bitrate, in bps.\n",
        "    audio_bitrate = float(next((s for s in probe['streams'] if s['codec_type'] == 'audio'), None)['bit_rate'])\n",
        "    # Target total bitrate, in bps.\n",
        "    target_total_bitrate = (target_size * 1024 * 8) / (1.073741824 * duration)\n",
        "\n",
        "    # Target audio bitrate, in bps\n",
        "    if 10 * audio_bitrate > target_total_bitrate:\n",
        "        audio_bitrate = target_total_bitrate / 10\n",
        "        if audio_bitrate < min_audio_bitrate < target_total_bitrate:\n",
        "            audio_bitrate = min_audio_bitrate\n",
        "        elif audio_bitrate > max_audio_bitrate:\n",
        "            audio_bitrate = max_audio_bitrate\n",
        "    # Target video bitrate, in bps.\n",
        "    video_bitrate = target_total_bitrate - audio_bitrate\n",
        "\n",
        "    i = ffmpeg.input(video_full_path)\n",
        "    ffmpeg.output(i, os.devnull,\n",
        "                  **{'c:v': 'libx264', 'b:v': video_bitrate, 'pass': 1, 'f': 'mp4'}\n",
        "                  ).overwrite_output().run()\n",
        "    ffmpeg.output(i, output_file_name,\n",
        "                  **{'c:v': 'libx264', 'b:v': video_bitrate, 'pass': 2, 'c:a': 'aac', 'b:a': audio_bitrate}\n",
        "                  ).overwrite_output().run()\n",
        "\n",
        "compress_video('#input.mp4', '#output.mp4', 50 * 1000)"
      ],
      "execution_count": null,
      "outputs": []
    }
  ]
}